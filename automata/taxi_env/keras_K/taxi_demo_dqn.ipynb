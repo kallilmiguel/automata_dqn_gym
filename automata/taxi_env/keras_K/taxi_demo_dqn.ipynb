{
 "cells": [
  {
   "cell_type": "code",
   "execution_count": 1,
   "id": "talented-chick",
   "metadata": {},
   "outputs": [],
   "source": [
    "import os\n",
    "os.environ[\"CUDA_VISIBLE_DEVICES\"]=\"-1\"\n",
    "import tensorflow as tf\n",
    "import gym\n",
    "from keras.config import Config\n",
    "from keras.rl_agent import QAgent"
   ]
  },
  {
   "cell_type": "code",
   "execution_count": 2,
   "id": "moved-procedure",
   "metadata": {},
   "outputs": [],
   "source": [
    "from tensorflow.keras.models import Sequential\n",
    "from tensorflow.keras.layers import Dense, Embedding, Reshape\n",
    "\n",
    "\n",
    "def build_model(action_shape):\n",
    "    model = tf.keras.Sequential()\n",
    "    model.add(Embedding(500, 10, input_length=1))\n",
    "    model.add(Reshape((10,)))\n",
    "    model.add(Dense(50, activation='relu'))\n",
    "    model.add(Dense(50, activation='relu'))\n",
    "    model.add(Dense(50, activation='relu'))\n",
    "    model.add(Dense(action_shape, activation='linear'))\n",
    "    return model"
   ]
  },
  {
   "cell_type": "code",
   "execution_count": 3,
   "id": "optimum-place",
   "metadata": {},
   "outputs": [],
   "source": [
    "env = gym.make(\"Taxi-v3\").env\n",
    "config = \"/home/guillaume/src/rl/config.yaml\"\n",
    "model = build_model(env.action_space.n)\n",
    "agent = QAgent(env=env, config=config, model=model)"
   ]
  },
  {
   "cell_type": "code",
   "execution_count": 4,
   "id": "later-colombia",
   "metadata": {},
   "outputs": [],
   "source": [
    "agent.compile()"
   ]
  },
  {
   "cell_type": "code",
   "execution_count": 14,
   "id": "operational-jesus",
   "metadata": {},
   "outputs": [
    {
     "output_type": "display_data",
     "data": {
      "text/plain": " 67%|######6   | 4000000/6000000 [00:00<?, ?it/s]",
      "application/vnd.jupyter.widget-view+json": {
       "version_major": 2,
       "version_minor": 0,
       "model_id": "8fb58517057947d8b5de43d63e480af1"
      }
     },
     "metadata": {}
    }
   ],
   "source": [
    "agent.adjust_lr(1e-4)\n",
    "agent.fit()"
   ]
  },
  {
   "cell_type": "code",
   "execution_count": 6,
   "metadata": {},
   "outputs": [],
   "source": [
    "agent.save()"
   ]
  },
  {
   "cell_type": "code",
   "execution_count": 5,
   "id": "specific-stuart",
   "metadata": {
    "tags": []
   },
   "outputs": [
    {
     "data": {
      "application/vnd.jupyter.widget-view+json": {
       "model_id": "ef90c9bd40a54745b88b070158fd0c6e",
       "version_major": 2,
       "version_minor": 0
      },
      "text/plain": [
       "  0%|          | 0/100 [00:00<?, ?it/s]"
      ]
     },
     "metadata": {},
     "output_type": "display_data"
    },
    {
     "name": "stdout",
     "output_type": "stream",
     "text": [
      "Results after 100 episodes:\n",
      "Average timesteps per episode: 100.0\n",
      "Average penalties per episode: 0.0\n"
     ]
    }
   ],
   "source": [
    "agent.evaluate(max_steps=100)"
   ]
  },
  {
   "cell_type": "code",
   "execution_count": 25,
   "id": "assured-fiber",
   "metadata": {
    "tags": []
   },
   "outputs": [
    {
     "output_type": "stream",
     "name": "stdout",
     "text": [
      "+---------+\n",
      "|\u001b[34;1mR\u001b[0m: | : :G|\n",
      "| : | : : |\n",
      "| : : : : |\n",
      "| | : | : |\n",
      "|Y| :\u001b[43m \u001b[0m|\u001b[35mB\u001b[0m: |\n",
      "+---------+\n",
      "  (South)\n",
      "Iter: 15 - Action: 0(South) - Reward -1\n",
      "cannot converge :(\n"
     ]
    }
   ],
   "source": [
    "agent.play(verbose=True, max_steps=15, sleep=0.1)"
   ]
  },
  {
   "cell_type": "code",
   "execution_count": 19,
   "id": "attached-bradley",
   "metadata": {},
   "outputs": [
    {
     "name": "stdout",
     "output_type": "stream",
     "text": [
      "+---------+\n",
      "|\u001b[35mR\u001b[0m: | : :G|\n",
      "| : | : : |\n",
      "| : : : : |\n",
      "| |\u001b[43m \u001b[0m: | : |\n",
      "|\u001b[34;1mY\u001b[0m| : |B: |\n",
      "+---------+\n",
      "  (South)\n"
     ]
    },
    {
     "data": {
      "text/plain": [
       "328"
      ]
     },
     "execution_count": 19,
     "metadata": {},
     "output_type": "execute_result"
    }
   ],
   "source": [
    "# Passenger locations:\n",
    "#     - 0: R(ed)\n",
    "#     - 1: G(reen)\n",
    "#     - 2: Y(ellow)\n",
    "#     - 3: B(lue)\n",
    "#     - 4: in taxi\n",
    "# Destinations:\n",
    "#     - 0: R(ed)\n",
    "#     - 1: G(reen)\n",
    "#     - 2: Y(ellow)\n",
    "#     - 3: B(lue)\n",
    "# Actions:\n",
    "#     There are 6 discrete deterministic actions:\n",
    "#     - 0: move south\n",
    "#     - 1: move north\n",
    "#     - 2: move east\n",
    "#     - 3: move west\n",
    "#     - 4: pickup passenger\n",
    "#     - 5: drop off passenger\n",
    "state = env.encode(3, 1, 2, 0) # (taxi row, taxi column, passenger index, destination index)\n",
    "env.s = state\n",
    "env.render()\n",
    "state\n",
    "# env.step(5)\n",
    "# env.step(5)"
   ]
  },
  {
   "cell_type": "code",
   "execution_count": null,
   "id": "artistic-spencer",
   "metadata": {},
   "outputs": [],
   "source": []
  },
  {
   "cell_type": "code",
   "execution_count": null,
   "id": "included-cream",
   "metadata": {},
   "outputs": [],
   "source": []
  },
  {
   "cell_type": "code",
   "execution_count": null,
   "id": "minimal-challenge",
   "metadata": {},
   "outputs": [],
   "source": []
  },
  {
   "cell_type": "code",
   "execution_count": null,
   "id": "optional-karaoke",
   "metadata": {},
   "outputs": [],
   "source": []
  }
 ],
 "metadata": {
  "kernelspec": {
   "display_name": "Python 3.8.5 64-bit (conda)",
   "language": "python",
   "name": "python38564bitcondacb306ae849d34476b76aa7daf87d4299"
  },
  "language_info": {
   "codemirror_mode": {
    "name": "ipython",
    "version": 3
   },
   "file_extension": ".py",
   "mimetype": "text/x-python",
   "name": "python",
   "nbconvert_exporter": "python",
   "pygments_lexer": "ipython3",
   "version": "3.8.5-final"
  }
 },
 "nbformat": 4,
 "nbformat_minor": 5
}