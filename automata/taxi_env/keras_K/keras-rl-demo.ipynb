{
 "cells": [
  {
   "cell_type": "code",
   "execution_count": 5,
   "id": "manufactured-canberra",
   "metadata": {},
   "outputs": [],
   "source": [
    "import os\n",
    "os.environ[\"CUDA_VISIBLE_DEVICES\"]=\"-1\"\n",
    "import tensorflow as tf\n",
    "import gym\n",
    "from keras.models import Sequential\n",
    "from keras.layers import Dense, Embedding, Reshape\n",
    "from keras.optimizers import Adam\n",
    "from rl.agents.dqn import DQNAgent\n",
    "from rl.policy import EpsGreedyQPolicy\n",
    "from rl.memory import SequentialMemory"
   ]
  },
  {
   "cell_type": "code",
   "execution_count": 6,
   "id": "fewer-budapest",
   "metadata": {},
   "outputs": [],
   "source": [
    "env = gym.make(\"Taxi-v3\").env"
   ]
  },
  {
   "cell_type": "code",
   "execution_count": 7,
   "id": "alone-noise",
   "metadata": {},
   "outputs": [
    {
     "name": "stdout",
     "output_type": "stream",
     "text": [
      "Model: \"sequential_1\"\n",
      "_________________________________________________________________\n",
      "Layer (type)                 Output Shape              Param #   \n",
      "=================================================================\n",
      "embedding_1 (Embedding)      (None, 1, 10)             5000      \n",
      "_________________________________________________________________\n",
      "reshape_1 (Reshape)          (None, 10)                0         \n",
      "_________________________________________________________________\n",
      "dense_4 (Dense)              (None, 50)                550       \n",
      "_________________________________________________________________\n",
      "dense_5 (Dense)              (None, 50)                2550      \n",
      "_________________________________________________________________\n",
      "dense_6 (Dense)              (None, 50)                2550      \n",
      "_________________________________________________________________\n",
      "dense_7 (Dense)              (None, 6)                 306       \n",
      "=================================================================\n",
      "Total params: 10,956\n",
      "Trainable params: 10,956\n",
      "Non-trainable params: 0\n",
      "_________________________________________________________________\n",
      "None\n"
     ]
    }
   ],
   "source": [
    "action_size = env.action_space.n\n",
    "\n",
    "model = Sequential()\n",
    "model.add(Embedding(500, 10, input_length=1))\n",
    "model.add(Reshape((10,)))\n",
    "model.add(Dense(50, activation='relu'))\n",
    "model.add(Dense(50, activation='relu'))\n",
    "model.add(Dense(50, activation='relu'))\n",
    "model.add(Dense(action_size, activation='linear'))\n",
    "print(model.summary())"
   ]
  },
  {
   "cell_type": "code",
   "execution_count": 13,
   "id": "brutal-dealer",
   "metadata": {},
   "outputs": [
    {
     "name": "stdout",
     "output_type": "stream",
     "text": [
      "Training for 1000000 steps ...\n",
      "Interval 1 (0 steps performed)\n",
      " 11903/100000 [==>...........................] - ETA: 5:26 - reward: -1.3183done, took 44.246 seconds\n"
     ]
    },
    {
     "data": {
      "text/plain": [
       "<tensorflow.python.keras.callbacks.History at 0x7f4c8db75520>"
      ]
     },
     "execution_count": 13,
     "metadata": {},
     "output_type": "execute_result"
    }
   ],
   "source": [
    "memory = SequentialMemory(limit=50000, window_length=1)\n",
    "policy = EpsGreedyQPolicy()\n",
    "dqn = DQNAgent(model=model, \n",
    "              nb_actions=action_size, \n",
    "              memory=memory, \n",
    "              nb_steps_warmup=500, \n",
    "              target_model_update=8000, # 1e-2\n",
    "              policy=policy)\n",
    "dqn.compile(Adam(lr=1e-3), metrics=['mae'])\n",
    "dqn.fit(env, nb_steps=1000000, \n",
    "       visualize=False, \n",
    "       verbose=1, \n",
    "       nb_max_episode_steps=99, \n",
    "       log_interval=100000)"
   ]
  },
  {
   "cell_type": "code",
   "execution_count": 14,
   "id": "adapted-click",
   "metadata": {},
   "outputs": [],
   "source": [
    "import time\n",
    "import numpy as np\n",
    "from IPython.display import clear_output"
   ]
  },
  {
   "cell_type": "code",
   "execution_count": 15,
   "id": "seasonal-james",
   "metadata": {},
   "outputs": [],
   "source": [
    "def _get_action_for_state(state):\n",
    "    predicted = model.predict_on_batch(tf.expand_dims(state, axis=0))\n",
    "    action = np.argmax(predicted[0])\n",
    "    return action"
   ]
  },
  {
   "cell_type": "code",
   "execution_count": 16,
   "id": "passive-victor",
   "metadata": {},
   "outputs": [
    {
     "name": "stdout",
     "output_type": "stream",
     "text": [
      "+---------+\n",
      "|R: | :\u001b[43m \u001b[0m:\u001b[35mG\u001b[0m|\n",
      "| : | : : |\n",
      "| : : : : |\n",
      "| | : | : |\n",
      "|\u001b[34;1mY\u001b[0m| : |B: |\n",
      "+---------+\n",
      "  (East)\n",
      "Iter: 20 - Action: 2(East) - Reward -1\n",
      "cannot converge :(\n"
     ]
    }
   ],
   "source": [
    "sleep = 0.2\n",
    "max_steps = 20\n",
    "\n",
    "\n",
    "try:\n",
    "    actions_str = [\"South\", \"North\", \"East\", \"West\", \"Pickup\", \"Dropoff\"]\n",
    "\n",
    "    iteration = 0\n",
    "    state = env.reset()  # reset environment to a new, random state\n",
    "    env.render()\n",
    "    print(f\"Iter: {iteration} - Action: *** - Reward ***\")\n",
    "    time.sleep(sleep)\n",
    "    done = False\n",
    "\n",
    "    while not done:\n",
    "        action = _get_action_for_state(state)\n",
    "        iteration += 1\n",
    "        state, reward, done, info = env.step(action)\n",
    "        clear_output(wait=True)\n",
    "        env.render()\n",
    "        print(f\"Iter: {iteration} - Action: {action}({actions_str[action]}) - Reward {reward}\")\n",
    "        time.sleep(sleep)\n",
    "        if iteration == max_steps:\n",
    "            print(\"cannot converge :(\")\n",
    "            break\n",
    "except KeyboardInterrupt:\n",
    "    pass"
   ]
  },
  {
   "cell_type": "code",
   "execution_count": null,
   "id": "otherwise-maker",
   "metadata": {},
   "outputs": [],
   "source": []
  },
  {
   "cell_type": "code",
   "execution_count": null,
   "id": "robust-prescription",
   "metadata": {},
   "outputs": [],
   "source": []
  }
 ],
 "metadata": {
  "kernelspec": {
   "display_name": "Python 3",
   "language": "python",
   "name": "python3"
  },
  "language_info": {
   "codemirror_mode": {
    "name": "ipython",
    "version": 3
   },
   "file_extension": ".py",
   "mimetype": "text/x-python",
   "name": "python",
   "nbconvert_exporter": "python",
   "pygments_lexer": "ipython3",
   "version": "3.8.5"
  }
 },
 "nbformat": 4,
 "nbformat_minor": 5
}
